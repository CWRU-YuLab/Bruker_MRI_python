{
 "cells": [
  {
   "cell_type": "code",
   "execution_count": 27,
   "metadata": {},
   "outputs": [],
   "source": [
    "import BrukerMRI as Bruker\n",
    "import pymrt as py \n",
    "import numpy as np \n",
    "import matplotlib as plot\n",
    "from scipy.fft import fft, fftshift"
   ]
  },
  {
   "cell_type": "code",
   "execution_count": 25,
   "metadata": {},
   "outputs": [],
   "source": [
    "Data_direct = \"G:/My Drive/Yu lab - Kim/Data/Double muscle stimulation/DMD/WT06/20210203/101314.6r2/\"\n",
    "File_ID = [8,10,13] \n",
    "raw_FIDs = []\n",
    "FID = []\n",
    "FID_temp = []\n",
    "for x in range(0,3):\n",
    "    P31_MRSF = Bruker.ReadExperiment(Data_direct, File_ID[x])\n",
    "    FID.append(P31_MRSF.raw_fid)\n",
    "FID = np.transpose(FID)"
   ]
  },
  {
   "cell_type": "code",
   "execution_count": 32,
   "metadata": {},
   "outputs": [
    {
     "name": "stdout",
     "output_type": "stream",
     "text": [
      "(256, 320, 30, 3)\n"
     ]
    }
   ],
   "source": [
    "Matrix = P31_MRSF.method[\"PVM_Matrix\"]\n",
    "NI = P31_MRSF.acqp[\"NI\"]\n",
    "NR = P31_MRSF.acqp[\"NR\"]\n",
    "FID_temp = FID.reshape( (Matrix[0],Matrix[1]*NI,NR,FID.shape[1]),order=\"F\")\n",
    "FID_temp = np.delete(FID_temp, 1,axis = 2)\n",
    "print(FID_temp.shape)\n"
   ]
  },
  {
   "cell_type": "code",
   "execution_count": 33,
   "metadata": {},
   "outputs": [],
   "source": [
    "Spectra_temp = fftshift(fft(FID_temp[6:,:,:,:],axis = 0))"
   ]
  },
  {
   "cell_type": "code",
   "execution_count": null,
   "metadata": {},
   "outputs": [],
   "source": []
  },
  {
   "cell_type": "code",
   "execution_count": 15,
   "metadata": {},
   "outputs": [],
   "source": []
  },
  {
   "cell_type": "code",
   "execution_count": 17,
   "metadata": {},
   "outputs": [
    {
     "data": {
      "text/plain": [
       "(2539520, 3)"
      ]
     },
     "execution_count": 17,
     "metadata": {},
     "output_type": "execute_result"
    }
   ],
   "source": []
  },
  {
   "cell_type": "code",
   "execution_count": 23,
   "metadata": {},
   "outputs": [],
   "source": []
  },
  {
   "cell_type": "code",
   "execution_count": 24,
   "metadata": {},
   "outputs": [
    {
     "data": {
      "text/plain": [
       "(256, 320, 31, 3)"
      ]
     },
     "execution_count": 24,
     "metadata": {},
     "output_type": "execute_result"
    }
   ],
   "source": []
  },
  {
   "cell_type": "code",
   "execution_count": null,
   "metadata": {},
   "outputs": [],
   "source": []
  }
 ],
 "metadata": {
  "kernelspec": {
   "display_name": "Python 3",
   "language": "python",
   "name": "python3"
  },
  "language_info": {
   "codemirror_mode": {
    "name": "ipython",
    "version": 3
   },
   "file_extension": ".py",
   "mimetype": "text/x-python",
   "name": "python",
   "nbconvert_exporter": "python",
   "pygments_lexer": "ipython3",
   "version": "3.7.6"
  }
 },
 "nbformat": 4,
 "nbformat_minor": 4
}
